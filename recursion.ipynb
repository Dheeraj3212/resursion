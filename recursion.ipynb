{
 "cells": [
  {
   "cell_type": "code",
   "execution_count": 1,
   "id": "f73242c2-020f-4430-be96-b68c41cd7f33",
   "metadata": {},
   "outputs": [
    {
     "name": "stdout",
     "output_type": "stream",
     "text": [
      "3\n"
     ]
    }
   ],
   "source": [
    "def minDistance(word1, word2):\n",
    "    m, n = len(word1), len(word2)\n",
    "    dp = [[0] * (n + 1) for _ in range(m + 1)]\n",
    "\n",
    "\n",
    "    for i in range(m + 1):\n",
    "        dp[i][0] = i\n",
    "    for j in range(n + 1):\n",
    "        dp[0][j] = j\n",
    "\n",
    "\n",
    "    for i in range(1, m + 1):\n",
    "        for j in range(1, n + 1):\n",
    "            if word1[i - 1] == word2[j - 1]:\n",
    "                dp[i][j] = dp[i - 1][j - 1]\n",
    "            else:\n",
    "                dp[i][j] = 1 + min(dp[i - 1][j - 1],  \n",
    "                                   dp[i][j - 1],      \n",
    "                                   dp[i - 1][j])      \n",
    "\n",
    "    return dp[m][n]\n",
    "\n",
    "\n",
    "word1 = \"horse\"\n",
    "word2 = \"ros\"\n",
    "print(minDistance(word1, word2))"
   ]
  },
  {
   "cell_type": "code",
   "execution_count": 2,
   "id": "5f8110bc-c9e7-4085-86b3-35a6287a68be",
   "metadata": {},
   "outputs": [
    {
     "name": "stdout",
     "output_type": "stream",
     "text": [
      "5\n"
     ]
    }
   ],
   "source": [
    "def minDistance(word1, word2):\n",
    "    m, n = len(word1), len(word2)\n",
    "    dp = [[0] * (n + 1) for _ in range(m + 1)]\n",
    "\n",
    "   \n",
    "    for i in range(m + 1):\n",
    "        dp[i][0] = i\n",
    "    for j in range(n + 1):\n",
    "        dp[0][j] = j\n",
    "\n",
    "   \n",
    "    for i in range(1, m + 1):\n",
    "        for j in range(1, n + 1):\n",
    "            if word1[i - 1] == word2[j - 1]:\n",
    "                dp[i][j] = dp[i - 1][j - 1]\n",
    "            else:\n",
    "                dp[i][j] = 1 + min(dp[i - 1][j - 1], \n",
    "                                   dp[i][j - 1],    \n",
    "                                   dp[i - 1][j])    \n",
    "\n",
    "    return dp[m][n]\n",
    "\n",
    "\n",
    "word1 = \"intention\"\n",
    "word2 = \"execution\"\n",
    "print(minDistance(word1, word2)) "
   ]
  },
  {
   "cell_type": "code",
   "execution_count": 3,
   "id": "19626a94-d2bf-4be6-a132-2aa7b0902216",
   "metadata": {},
   "outputs": [
    {
     "name": "stdout",
     "output_type": "stream",
     "text": [
      "22\n"
     ]
    }
   ],
   "source": [
    "array = [13, 1, -3, 22, 5]\n",
    "max_value = max(array)\n",
    "print(max_value)"
   ]
  },
  {
   "cell_type": "code",
   "execution_count": 4,
   "id": "157b2218-8bb4-4d7e-b5e9-0b748a20d3d9",
   "metadata": {},
   "outputs": [
    {
     "name": "stdout",
     "output_type": "stream",
     "text": [
      "120\n"
     ]
    }
   ],
   "source": [
    "array = [92, 23, 15, -20, 10]\n",
    "sum_of_values = sum(array)\n",
    "print(sum_of_values)\n"
   ]
  },
  {
   "cell_type": "code",
   "execution_count": 5,
   "id": "ea5933db-d91e-4459-bcbb-43a9ce06cb4f",
   "metadata": {},
   "outputs": [
    {
     "name": "stdin",
     "output_type": "stream",
     "text": [
      "Enter a number:  45\n"
     ]
    },
    {
     "name": "stdout",
     "output_type": "stream",
     "text": [
      "45 is not an Armstrong number.\n"
     ]
    }
   ],
   "source": [
    "def is_armstrong(n):\n",
    "   \n",
    "    num_digits = len(str(n))\n",
    "\n",
    "  \n",
    "    total = sum(int(digit) ** num_digits for digit in str(n))\n",
    "\n",
    "   \n",
    "    return total == n\n",
    "\n",
    "\n",
    "number = int(input(\"Enter a number: \"))\n",
    "if is_armstrong(number):\n",
    "    print(number, \"is an Armstrong number.\")\n",
    "else:\n",
    "    print(number, \"is not an Armstrong number.\")"
   ]
  },
  {
   "cell_type": "code",
   "execution_count": 6,
   "id": "f7b17cae-5ab7-4ee2-ad42-784417fe7747",
   "metadata": {},
   "outputs": [
    {
     "name": "stdin",
     "output_type": "stream",
     "text": [
      "Enter a number:  153\n"
     ]
    },
    {
     "name": "stdout",
     "output_type": "stream",
     "text": [
      "153 is an Armstrong number.\n"
     ]
    }
   ],
   "source": [
    "def is_armstrong(n):\n",
    "   \n",
    "    num_digits = len(str(n))\n",
    "\n",
    "  \n",
    "    total = sum(int(digit) ** num_digits for digit in str(n))\n",
    "\n",
    "   \n",
    "    return total == n\n",
    "\n",
    "\n",
    "number = int(input(\"Enter a number: \"))\n",
    "if is_armstrong(number):\n",
    "    print(number, \"is an Armstrong number.\")\n",
    "else:\n",
    "    print(number, \"is not an Armstrong number.\")"
   ]
  },
  {
   "cell_type": "code",
   "execution_count": 7,
   "id": "f8fd1bdd-d6fc-4a31-b8b0-80ce96281c03",
   "metadata": {},
   "outputs": [
    {
     "name": "stdin",
     "output_type": "stream",
     "text": [
      "Enter a number:  134\n"
     ]
    },
    {
     "name": "stdout",
     "output_type": "stream",
     "text": [
      "134 is not an Armstrong number.\n"
     ]
    }
   ],
   "source": [
    "def is_armstrong(n):\n",
    "   \n",
    "    num_digits = len(str(n))\n",
    "\n",
    "  \n",
    "    total = sum(int(digit) ** num_digits for digit in str(n))\n",
    "\n",
    "   \n",
    "    return total == n\n",
    "\n",
    "\n",
    "number = int(input(\"Enter a number: \"))\n",
    "if is_armstrong(number):\n",
    "    print(number, \"is an Armstrong number.\")\n",
    "else:\n",
    "    print(number, \"is not an Armstrong number.\")\n",
    "    "
   ]
  },
  {
   "cell_type": "code",
   "execution_count": 8,
   "id": "788b51eb-024f-4f64-ad8f-c908b37a2fe8",
   "metadata": {},
   "outputs": [
    {
     "name": "stdin",
     "output_type": "stream",
     "text": [
      "Enter a non-negative integer:  45\n"
     ]
    },
    {
     "name": "stdout",
     "output_type": "stream",
     "text": [
      "Factorial of 45 is 119622220865480194561963161495657715064383733760000000000\n"
     ]
    }
   ],
   "source": [
    "def factorial(n):\n",
    "   \n",
    "    if n == 0 or n == 1:\n",
    "        return 1\n",
    "    else:\n",
    "       \n",
    "        return n * factorial(n - 1)\n",
    "\n",
    "\n",
    "number = int(input(\"Enter a non-negative integer: \"))\n",
    "print(\"Factorial of\", number, \"is\", factorial(number))"
   ]
  },
  {
   "cell_type": "code",
   "execution_count": 12,
   "id": "826f2e01-9fda-417a-9f28-2931a66be711",
   "metadata": {},
   "outputs": [],
   "source": [
    "def fibonacci(n):\n",
    "    if n <= 1:\n",
    "        return n\n",
    "    else:\n",
    "        return fibonacci(n-1) + fibonacci(n-2)"
   ]
  },
  {
   "cell_type": "code",
   "execution_count": 13,
   "id": "cbdf3a50-9cea-4101-a60f-497d5c747eed",
   "metadata": {},
   "outputs": [],
   "source": [
    "def power(base, exponent):\n",
    "    if exponent == 0:\n",
    "        return 1\n",
    "    else:\n",
    "        return base * power(base, exponent - 1)"
   ]
  },
  {
   "cell_type": "code",
   "execution_count": 14,
   "id": "2e166e9a-9fc6-43ef-bd64-da14dbc8b76d",
   "metadata": {},
   "outputs": [],
   "source": [
    "def binary_search(arr, target, low, high):\n",
    "    if low <= high:\n",
    "        mid = (low + high) // 2\n",
    "        if arr[mid] == target:\n",
    "            return mid\n",
    "        elif arr[mid] < target:\n",
    "            return binary_search(arr, target, mid + 1, high)\n",
    "        else:\n",
    "            return binary_search(arr, target, low, mid - 1)\n",
    "    else:\n",
    "        return -1"
   ]
  },
  {
   "cell_type": "code",
   "execution_count": null,
   "id": "91c96d06-ec9a-43f1-91e8-d1be00f41051",
   "metadata": {},
   "outputs": [],
   "source": [
    "arr = [23,43,54,65,76]\n",
    "target = 43\n",
    "low = 23\n",
    "high = 76\n",
    "result = "
   ]
  }
 ],
 "metadata": {
  "kernelspec": {
   "display_name": "Python 3 (ipykernel)",
   "language": "python",
   "name": "python3"
  },
  "language_info": {
   "codemirror_mode": {
    "name": "ipython",
    "version": 3
   },
   "file_extension": ".py",
   "mimetype": "text/x-python",
   "name": "python",
   "nbconvert_exporter": "python",
   "pygments_lexer": "ipython3",
   "version": "3.10.8"
  }
 },
 "nbformat": 4,
 "nbformat_minor": 5
}
